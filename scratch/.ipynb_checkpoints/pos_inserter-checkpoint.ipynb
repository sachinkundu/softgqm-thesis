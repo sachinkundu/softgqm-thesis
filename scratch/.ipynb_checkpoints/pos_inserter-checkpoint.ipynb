{
 "cells": [
  {
   "cell_type": "code",
   "execution_count": 1,
   "id": "a083ae26-69b8-4a4e-bbf5-564930f1acf3",
   "metadata": {},
   "outputs": [],
   "source": [
    "import csv\n",
    "import xmltodict"
   ]
  },
  {
   "cell_type": "code",
   "execution_count": 2,
   "id": "8aaedc5e-f291-4f2e-9f2d-5138dc61bb3e",
   "metadata": {},
   "outputs": [],
   "source": [
    "mj_data_file = \"/home/sachin/mujoco30/bin/MJDATA.TXT\""
   ]
  },
  {
   "cell_type": "code",
   "execution_count": 3,
   "id": "1069c7ec-167f-46d2-b5c4-84670a766c85",
   "metadata": {},
   "outputs": [],
   "source": [
    "xpos = []"
   ]
  },
  {
   "cell_type": "code",
   "execution_count": 4,
   "id": "2c019e30-7111-4a64-ae44-9141d65805c8",
   "metadata": {},
   "outputs": [
    {
     "name": "stdout",
     "output_type": "stream",
     "text": [
      "[['0.0076   -0.11      0.00075'], ['-0.0033   -0.15      0.02'], ['-0.014    -0.11      0.00075'], ['-0.062    -0.12      0.004'], ['-0.11     -0.12      0.00064'], ['-0.13     -0.068     0.00077'], ['-0.078    -0.052     0.00057'], ['-0.031    -0.035     0.00076'], ['0.016    -0.019     0.00076'], ['0.063    -0.0026    0.00076'], ['-0.033    -0.14      0.00081'], ['-0.039    -0.13      0.049'], ['-0.062    -0.12      0.0061'], ['-0.072    -0.067     0.00078'], ['-0.12     -0.073     0.023'], ['-0.077    -0.053     0.0024'], ['-0.095    -0.0052    0.00077'], ['-0.048     0.012     0.00076'], ['-0.00069   0.028     0.00076'], ['0.047     0.045     0.00076'], ['-0.037    -0.13      0.051'], ['-0.077    -0.16      0.05'], ['-0.11     -0.12      0.03'], ['-0.12     -0.076     0.015'], ['-0.13     -0.026     0.0078'], ['-0.085    -0.01      0.028'], ['-0.048     0.012     0.0026'], ['-0.065     0.059     0.00075'], ['-0.017     0.076     0.00076'], ['0.03      0.092     0.00076'], ['-0.061    -0.17      0.05'], ['-0.062    -0.17      0.00072'], ['-0.067    -0.12      1.7e-05'], ['-0.074    -0.069     0.00067'], ['-0.08     -0.019     0.00075'], ['-0.085     0.031     0.00079'], ['-0.053     0.053     0.033'], ['-0.018     0.076     0.0051'], ['-0.033     0.12      0.00075'], ['0.014     0.14      0.0007'], ['-0.059    -0.17      0.00068'], ['-0.011    -0.16      0.00074'], ['-0.017    -0.11      0.00076'], ['-0.024    -0.064     0.00077'], ['-0.031    -0.014     0.00076'], ['-0.035     0.035     0.00076'], ['-0.037     0.085     0.00017'], ['-0.024     0.12      0.03'], ['0.015     0.14      0.0027'], ['-0.0012    0.19      0.0015'], ['-0.067    -0.12      0.00076'], ['-0.018    -0.12      0.0026'], ['0.032    -0.11      0.00083'], ['0.025    -0.057     0.00082'], ['0.018    -0.0085    0.00065'], ['0.014     0.04      0.00056'], ['0.013     0.087     0.00041'], ['0.013     0.14      0.00066'], ['-0.0028    0.18      0.00071'], ['-0.042     0.17      0.029'], ['-0.017    -0.12      0.00066'], ['-0.027    -0.067     0.00075'], ['0.023    -0.058     0.00078'], ['0.072    -0.046     0.0064'], ['0.06      0.00061   0.024'], ['0.04      0.046     0.041'], ['0.016     0.091     0.049'], ['-0.0093    0.14      0.046'], ['-0.042     0.17      0.028'], ['-0.07      0.2       0.00084'], ['0.032    -0.11      0.00076'], ['0.022    -0.058     0.00076'], ['0.012    -0.0096    0.00075'], ['0.061     0.0029    0.00071'], ['0.013    -0.0087    0.0064'], ['-0.0045    0.027     0.036'], ['-0.027     0.068     0.049'], ['-0.052     0.11      0.047'], ['-0.068     0.14      0.0053'], ['-0.11      0.17      0.00064'], ['0.081    -0.095     0.00076'], ['0.071    -0.047     0.00066'], ['0.061     0.0026    0.00062'], ['0.043     0.051     0.0015'], ['0.0064    0.034     0.032'], ['-0.033     0.044     0.00065'], ['-0.017     0.09      0.0058'], ['-0.064     0.1       0.00039'], ['-0.11      0.11      0.007'], ['-0.13      0.15      0.039'], ['0.071    -0.046     0.0026'], ['0.022    -0.056     0.00076'], ['0.012    -0.0069    0.00082'], ['0.0065    0.032     0.032'], ['-0.029     0.045     0.00048'], ['-0.018     0.092     0.00073'], ['-0.066     0.11      0.00089'], ['-0.052     0.15      0.00077'], ['-0.1       0.16      0.00078'], ['-0.15      0.17      0.00077']]\n"
     ]
    }
   ],
   "source": [
    "with open(mj_data_file, 'r') as data_f:\n",
    "    xpos_found = False\n",
    "    skip_rows = 0\n",
    "    for row in data_f:\n",
    "        clean_row = row.strip()\n",
    "        if not xpos_found and clean_row == \"XPOS\":\n",
    "            xpos_found = True\n",
    "            continue\n",
    "        if xpos_found and skip_rows < 3:\n",
    "            skip_rows += 1    \n",
    "            continue\n",
    "        if xpos_found and skip_rows == 3:\n",
    "            if row == \"\\n\":\n",
    "                break\n",
    "            clean_row_split = clean_row.split(\"\\t\")\n",
    "            # clean_row_split = [float(el) for el in clean_row_split if el != \"\"]\n",
    "            xpos.append(clean_row_split)"
   ]
  },
  {
   "cell_type": "code",
   "execution_count": 5,
   "id": "ddcd76df-6e93-44f5-90b0-d18b16ff4119",
   "metadata": {},
   "outputs": [],
   "source": [
    "xml_file = \"/home/sachin/mujoco30/bin/mjmodel.xml\"\n",
    "baked_xml_file = \"/home/sachin/source/thesis/assets/cloth_simple_long_expanded_baked.xml\""
   ]
  },
  {
   "cell_type": "code",
   "execution_count": 6,
   "id": "8515783a-eb58-4a5f-837d-562a4298beac",
   "metadata": {},
   "outputs": [],
   "source": [
    "with open(xml_file) as xmlf:\n",
    "    xml_dict = xmltodict.parse(xmlf.read())\n",
    "    cloth_sub_bodies = xml_dict['mujoco']['worldbody']['body']['body']['body']\n",
    "    for i, (xpos_row, cloth_body) in enumerate(zip(xpos, cloth_sub_bodies)):\n",
    "        # print(f\"{i} -- {' '.join(split_row)} - {cloth_body['@name']}, {cloth_body['@pos']}\")\n",
    "        cloth_body['@pos'] = ' '.join(xpos_row)"
   ]
  },
  {
   "cell_type": "code",
   "execution_count": 7,
   "id": "a7c2b8c8-7f7f-42cd-8e26-d80221aad90b",
   "metadata": {},
   "outputs": [],
   "source": [
    "with open(baked_xml_file, 'w') as f_w:\n",
    "    xmltodict.unparse(xml_dict, f_w, pretty=True)"
   ]
  },
  {
   "cell_type": "code",
   "execution_count": null,
   "id": "c134672e-7595-4e12-af85-b94a79d6e7e1",
   "metadata": {},
   "outputs": [],
   "source": []
  }
 ],
 "metadata": {
  "kernelspec": {
   "display_name": "Python 3 (ipykernel)",
   "language": "python",
   "name": "python3"
  },
  "language_info": {
   "codemirror_mode": {
    "name": "ipython",
    "version": 3
   },
   "file_extension": ".py",
   "mimetype": "text/x-python",
   "name": "python",
   "nbconvert_exporter": "python",
   "pygments_lexer": "ipython3",
   "version": "3.8.18"
  }
 },
 "nbformat": 4,
 "nbformat_minor": 5
}
