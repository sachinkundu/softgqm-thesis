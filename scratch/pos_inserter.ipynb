{
 "cells": [
  {
   "cell_type": "code",
   "execution_count": 1,
   "id": "a083ae26-69b8-4a4e-bbf5-564930f1acf3",
   "metadata": {},
   "outputs": [],
   "source": [
    "import csv\n",
    "import xmltodict"
   ]
  },
  {
   "cell_type": "code",
   "execution_count": 2,
   "id": "8aaedc5e-f291-4f2e-9f2d-5138dc61bb3e",
   "metadata": {},
   "outputs": [],
   "source": [
    "mj_data_file = \"/home/sachin/mujoco30/bin/MJDATA.TXT\""
   ]
  },
  {
   "cell_type": "code",
   "execution_count": 3,
   "id": "1069c7ec-167f-46d2-b5c4-84670a766c85",
   "metadata": {},
   "outputs": [],
   "source": [
    "xpos = []"
   ]
  },
  {
   "cell_type": "code",
   "execution_count": 4,
   "id": "2c019e30-7111-4a64-ae44-9141d65805c8",
   "metadata": {},
   "outputs": [],
   "source": [
    "with open(mj_data_file, 'r') as data_f:\n",
    "    xpos_found = False\n",
    "    skip_rows = 0\n",
    "    for row in data_f:\n",
    "        clean_row = row.strip()\n",
    "        if not xpos_found and clean_row == \"XPOS\":\n",
    "            xpos_found = True\n",
    "            continue\n",
    "        if xpos_found and skip_rows < 3:\n",
    "            skip_rows += 1    \n",
    "            continue\n",
    "        if xpos_found and skip_rows == 3:\n",
    "            if row == \"\\n\":\n",
    "                break\n",
    "            clean_row_split = clean_row.split(\"\\t\")\n",
    "            # clean_row_split = [float(el) for el in clean_row_split if el != \"\"]\n",
    "            xpos.append(clean_row_split)"
   ]
  },
  {
   "cell_type": "code",
   "execution_count": 5,
   "id": "ddcd76df-6e93-44f5-90b0-d18b16ff4119",
   "metadata": {},
   "outputs": [],
   "source": [
    "xml_file = \"/home/sachin/mujoco30/bin/mjmodel.xml\"\n",
    "baked_xml_file = \"/home/sachin/source/thesis/assets/cloth_simple_long_expanded_baked.xml\""
   ]
  },
  {
   "cell_type": "code",
   "execution_count": 6,
   "id": "8515783a-eb58-4a5f-837d-562a4298beac",
   "metadata": {},
   "outputs": [],
   "source": [
    "with open(xml_file) as xmlf:\n",
    "    xml_dict = xmltodict.parse(xmlf.read())\n",
    "    cloth_sub_bodies = xml_dict['mujoco']['worldbody']['body']['body']['body']\n",
    "    for i, (xpos_row, cloth_body) in enumerate(zip(xpos, cloth_sub_bodies)):\n",
    "        # print(f\"{i} -- {' '.join(split_row)} - {cloth_body['@name']}, {cloth_body['@pos']}\")\n",
    "        cloth_body['@pos'] = ' '.join(xpos_row)"
   ]
  },
  {
   "cell_type": "code",
   "execution_count": 7,
   "id": "a7c2b8c8-7f7f-42cd-8e26-d80221aad90b",
   "metadata": {},
   "outputs": [],
   "source": [
    "with open(baked_xml_file, 'w') as f_w:\n",
    "    xmltodict.unparse(xml_dict, f_w, pretty=True)"
   ]
  },
  {
   "cell_type": "code",
   "execution_count": null,
   "id": "c134672e-7595-4e12-af85-b94a79d6e7e1",
   "metadata": {},
   "outputs": [],
   "source": []
  }
 ],
 "metadata": {
  "kernelspec": {
   "display_name": "Python 3 (ipykernel)",
   "language": "python",
   "name": "python3"
  },
  "language_info": {
   "codemirror_mode": {
    "name": "ipython",
    "version": 3
   },
   "file_extension": ".py",
   "mimetype": "text/x-python",
   "name": "python",
   "nbconvert_exporter": "python",
   "pygments_lexer": "ipython3",
   "version": "3.8.18"
  }
 },
 "nbformat": 4,
 "nbformat_minor": 5
}
