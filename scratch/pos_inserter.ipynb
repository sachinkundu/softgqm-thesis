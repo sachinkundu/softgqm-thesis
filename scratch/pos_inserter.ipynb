{
 "cells": [
  {
   "cell_type": "code",
   "execution_count": 1,
   "id": "a083ae26-69b8-4a4e-bbf5-564930f1acf3",
   "metadata": {},
   "outputs": [],
   "source": [
    "import csv\n",
    "import xmltodict"
   ]
  },
  {
   "cell_type": "code",
   "execution_count": 2,
   "id": "ddcd76df-6e93-44f5-90b0-d18b16ff4119",
   "metadata": {},
   "outputs": [],
   "source": [
    "xml_file = \"/home/sachin/source/thesis/assets/cloth_simple_long_expanded_mj.xml\"\n",
    "pos_csv_file = \"/home/sachin/source/thesis/scratch/xpos_cloth_small.csv\"\n",
    "baked_xml_file = \"/home/sachin/source/thesis/assets/cloth_simple_long_expanded_baked.xml\""
   ]
  },
  {
   "cell_type": "code",
   "execution_count": 3,
   "id": "8515783a-eb58-4a5f-837d-562a4298beac",
   "metadata": {},
   "outputs": [],
   "source": [
    "with open(pos_csv_file) as f:\n",
    "    with open(xml_file) as xmlf:\n",
    "        xml_dict = xmltodict.parse(xmlf.read())\n",
    "        cloth_sub_bodies = xml_dict['mujoco']['worldbody']['body']['body']['body']\n",
    "        reader = csv.reader(f, delimiter=\"\\t\")\n",
    "        for i, (xml_row, cloth_body) in enumerate(zip(reader, cloth_sub_bodies)):\n",
    "            split_row = xml_row[0].split()\n",
    "            # print(f\"{i} -- {' '.join(split_row)} - {cloth_body['@name']}, {cloth_body['@pos']}\")\n",
    "            cloth_body['@pos'] = ' '.join(split_row)"
   ]
  },
  {
   "cell_type": "code",
   "execution_count": 4,
   "id": "a7c2b8c8-7f7f-42cd-8e26-d80221aad90b",
   "metadata": {},
   "outputs": [],
   "source": [
    "with open(baked_xml_file, 'w') as f_w:\n",
    "    xmltodict.unparse(xml_dict, f_w, pretty=True)"
   ]
  },
  {
   "cell_type": "code",
   "execution_count": 5,
   "id": "87dbc623-49cb-4925-98c5-cd754aaa2d9e",
   "metadata": {},
   "outputs": [
    {
     "name": "stdout",
     "output_type": "stream",
     "text": [
      "check_obs_plots.ipynb  mujoco_small_cloth_baked.xml  test_cloth_movement.ipynb\n",
      "cloth_2.xml\t       placement.ipynb\t\t     xpos_1.csv\n",
      "cloth_small_baked.xml  pos_inserter.ipynb\t     xpos_cloth_small.csv\n",
      "get_images.py\t       robosuite_setup.txt\n"
     ]
    }
   ],
   "source": [
    "!ls"
   ]
  },
  {
   "cell_type": "code",
   "execution_count": null,
   "id": "40929024-2fa7-4427-90c6-ba259d503a9f",
   "metadata": {},
   "outputs": [],
   "source": []
  }
 ],
 "metadata": {
  "kernelspec": {
   "display_name": "Python 3 (ipykernel)",
   "language": "python",
   "name": "python3"
  },
  "language_info": {
   "codemirror_mode": {
    "name": "ipython",
    "version": 3
   },
   "file_extension": ".py",
   "mimetype": "text/x-python",
   "name": "python",
   "nbconvert_exporter": "python",
   "pygments_lexer": "ipython3",
   "version": "3.8.18"
  }
 },
 "nbformat": 4,
 "nbformat_minor": 5
}
