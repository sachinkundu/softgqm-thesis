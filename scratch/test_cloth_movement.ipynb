{
 "cells": [
  {
   "cell_type": "code",
   "execution_count": 1,
   "id": "cccd9724-3d6d-4b3e-a8aa-496c249335a9",
   "metadata": {},
   "outputs": [],
   "source": [
    "import mujoco\n",
    "import mediapy as media\n",
    "import matplotlib.pyplot as plt"
   ]
  },
  {
   "cell_type": "code",
   "execution_count": 36,
   "id": "212a464d-3c76-476c-b75a-18b11d96d10a",
   "metadata": {},
   "outputs": [
    {
     "name": "stdout",
     "output_type": "stream",
     "text": [
      "name == plugin section\n",
      "plugin name = \n",
      "plugin name = \n",
      "plugin name = \n",
      "plugin name = \n",
      "plugin name = \n",
      "plugin name = \n",
      "plugin name = \n",
      "plugin name = \n",
      "plugin name = \n",
      "plugin name = \n",
      "plugin name = \n",
      "plugin name = \n",
      "plugin name = \n",
      "plugin name = \n",
      "plugin name = \n",
      "plugin name = \n",
      "plugin name = \n",
      "plugin name = \n",
      "plugin name = \n",
      "plugin name = \n",
      "plugin name = \n",
      "plugin name = \n",
      "plugin name = \n",
      "plugin name = \n",
      "plugin name = \n"
     ]
    }
   ],
   "source": [
    "model = mujoco.MjModel.from_xml_path(\"/home/sachin/source/thesis/assets/cloth_small_baked.xml\")"
   ]
  },
  {
   "cell_type": "code",
   "execution_count": 37,
   "id": "92b90b15-0b0a-4164-a4dc-17e14bc066c1",
   "metadata": {},
   "outputs": [],
   "source": [
    "data = mujoco.MjData(model)\n",
    "renderer = mujoco.Renderer(model)"
   ]
  },
  {
   "cell_type": "code",
   "execution_count": 38,
   "id": "6038066e-d352-491a-9f50-3eba9c0e277c",
   "metadata": {},
   "outputs": [
    {
     "data": {
      "text/html": [
       "<table class=\"show_images\" style=\"border-spacing:0px;\"><tr><td style=\"padding:1px;\"><img width=\"320\" height=\"240\" style=\"image-rendering:auto; object-fit:cover;\" src=\"data:image/png;base64,iVBORw0KGgoAAAANSUhEUgAAAUAAAADwCAIAAAD+Tyo8AAABUUlEQVR4nO3VoQ3DMBBAUbfAY3gVz5HAIHuLzJApg8Itk4KUNwWVU+k9dMc+OV0IAAAAAAAAAAAAAAAAAAAAAAAAAAAAAAAAAAAAAAAAAAAAAAAAAAAAAAAA/I+cc855dAXwvVJKCKHWOjqEq56jA7iRGOM0Tb33c53neWwPHz1GB3AXy7KklM75OI5t28b2cIUPzFvvfd/3dV1ba64XAAAAAAAAAAAAAAAAAAAAAAAAAAAAAAAAAAAAAAAAAAAAAAAAAAAAAAAAAAAAAAAAAAAAAAAAAAAAAAAAAAAAAAAAAAAAAAAAAAAAAAAAAAAAAAAAAAAAAAAAAAAAAAAAAAAAAAAAAAAAAAAAAAAAAAAAAAAAAAAAAAAAAAAAAAAAAAAAAAAAAAAAAAAAAAAAAAAAAAAAAAAAAAAAAAAAAAAAAAAAAAAAAAAAAAAAAADgt17RtxrZpzrycAAAAABJRU5ErkJggg==\"/></td></tr></table>"
      ],
      "text/plain": [
       "<IPython.core.display.HTML object>"
      ]
     },
     "metadata": {},
     "output_type": "display_data"
    }
   ],
   "source": [
    "mujoco.mj_forward(model, data)\n",
    "renderer.update_scene(data)\n",
    "\n",
    "media.show_image(renderer.render())"
   ]
  },
  {
   "cell_type": "code",
   "execution_count": 16,
   "id": "f55f54e1-8fd2-48c9-b983-cb4ff60bf296",
   "metadata": {},
   "outputs": [
    {
     "data": {
      "text/plain": [
       "48"
      ]
     },
     "execution_count": 16,
     "metadata": {},
     "output_type": "execute_result"
    }
   ],
   "source": [
    "mujoco.mj_name2id(model, mujoco.mjtObj.mjOBJ_BODY, 'cloth_24')"
   ]
  },
  {
   "cell_type": "code",
   "execution_count": 19,
   "id": "32dd68ee-d318-4f11-be2f-08f7d00b01b8",
   "metadata": {},
   "outputs": [],
   "source": [
    "def get_highest_cloth_body():\n",
    "    highest_height = 0.0\n",
    "    highest_body = None\n",
    "\n",
    "    for i in range(25):\n",
    "        current_cloth_body_height = data.xpos[mujoco.mj_name2id(model, mujoco.mjtObj.mjOBJ_BODY, f\"cloth_{i}\")][2]\n",
    "        print(current_cloth_body_height)\n",
    "        if current_cloth_body_height > highest_height:\n",
    "            highest_height = current_cloth_body_height\n",
    "            highest_body = i\n",
    "\n",
    "    return highest_body"
   ]
  },
  {
   "cell_type": "code",
   "execution_count": 20,
   "id": "0952e7e8-77de-480a-a07e-b51b2379e940",
   "metadata": {},
   "outputs": [
    {
     "name": "stdout",
     "output_type": "stream",
     "text": [
      "0.834\n",
      "0.8354999999999999\n",
      "0.8352999999999999\n",
      "0.8356\n",
      "0.8362999999999999\n",
      "0.84\n",
      "0.8353999999999999\n",
      "0.8356\n",
      "0.8348\n",
      "0.845\n",
      "0.848\n",
      "0.851\n",
      "0.844\n",
      "0.8353999999999999\n",
      "0.8352999999999999\n",
      "0.845\n",
      "0.854\n",
      "0.856\n",
      "0.849\n",
      "0.8349\n",
      "0.8377\n",
      "0.851\n",
      "0.854\n",
      "0.851\n",
      "0.8351\n"
     ]
    }
   ],
   "source": [
    "highest_body_id = get_highest_cloth_body()"
   ]
  },
  {
   "cell_type": "code",
   "execution_count": 21,
   "id": "e847e54a-43d8-4e66-aa52-871072169868",
   "metadata": {},
   "outputs": [
    {
     "data": {
      "text/plain": [
       "17"
      ]
     },
     "execution_count": 21,
     "metadata": {},
     "output_type": "execute_result"
    }
   ],
   "source": [
    "highest_body_id"
   ]
  },
  {
   "cell_type": "code",
   "execution_count": 43,
   "id": "b542798a-9d55-48b1-8e33-a475647775fb",
   "metadata": {},
   "outputs": [
    {
     "name": "stdout",
     "output_type": "stream",
     "text": [
      "[0.1457 0.014  0.8353]\n",
      "[0.1457 0.014  0.8353]\n",
      "[0.1457 0.014  0.8353]\n",
      "[0.1457 0.014  0.8353]\n",
      "[0.1457 0.014  0.8353]\n",
      "[0.1457 0.014  0.8353]\n",
      "[0.1457 0.014  0.8353]\n",
      "[0.1457 0.014  0.8353]\n",
      "[0.1457 0.014  0.8353]\n",
      "[0.1457 0.014  0.8353]\n"
     ]
    }
   ],
   "source": [
    "for i in range(1000):\n",
    "    if i % 100 == 0:\n",
    "        mujoco.mj_forward(model, data)\n",
    "        print(f\"{data.xpos[highest_body_id]}\")"
   ]
  },
  {
   "cell_type": "code",
   "execution_count": 2,
   "id": "c7d19ac8-bd33-4ffb-87ce-001ac7a5f8dd",
   "metadata": {},
   "outputs": [
    {
     "name": "stdout",
     "output_type": "stream",
     "text": [
      "name == plugin section\n",
      "plugin name = \n",
      "plugin name = \n",
      "plugin name = \n",
      "plugin name = \n",
      "plugin name = \n",
      "plugin name = \n",
      "plugin name = \n",
      "plugin name = \n",
      "plugin name = \n",
      "plugin name = \n",
      "plugin name = \n",
      "plugin name = \n",
      "plugin name = \n",
      "plugin name = \n",
      "plugin name = \n",
      "plugin name = \n",
      "plugin name = \n",
      "plugin name = \n",
      "plugin name = \n",
      "plugin name = \n",
      "plugin name = \n",
      "plugin name = \n",
      "plugin name = \n",
      "plugin name = \n",
      "plugin name = \n"
     ]
    }
   ],
   "source": [
    "model = mujoco.MjModel.from_xml_path(\"/home/sachin/source/thesis/scratch/mujoco_small_cloth_baked.xml\")"
   ]
  },
  {
   "cell_type": "code",
   "execution_count": 18,
   "id": "16560e62-64f0-4c01-9395-d8ee789e1d06",
   "metadata": {},
   "outputs": [],
   "source": [
    "data = mujoco.MjData(model)\n",
    "mujoco.mj_forward(model, data)"
   ]
  },
  {
   "cell_type": "code",
   "execution_count": 6,
   "id": "a2ed7dab-3a7c-4482-b3ea-91f8580832e3",
   "metadata": {},
   "outputs": [],
   "source": [
    "highest_body_id"
   ]
  },
  {
   "cell_type": "code",
   "execution_count": 23,
   "id": "9fa72718-7902-4c1d-a6e7-b80b1f3825f8",
   "metadata": {},
   "outputs": [
    {
     "name": "stdout",
     "output_type": "stream",
     "text": [
      "[-0.47801337  0.00600744  1.7301    ]\n",
      "[-0.47801337  0.00600744  1.7301    ]\n",
      "[-0.47801337  0.00600744  1.7301    ]\n",
      "[-0.47801337  0.00600744  1.7301    ]\n",
      "[-0.47801337  0.00600744  1.7301    ]\n",
      "[-0.47801337  0.00600744  1.7301    ]\n",
      "[-0.47801337  0.00600744  1.7301    ]\n",
      "[-0.47801337  0.00600744  1.7301    ]\n",
      "[-0.47801337  0.00600744  1.7301    ]\n",
      "[-0.47801337  0.00600744  1.7301    ]\n"
     ]
    }
   ],
   "source": [
    "for i in range(1000):\n",
    "    if i % 100 == 0:\n",
    "        print(f\"{data.xpos[highest_body_id]}\")        \n",
    "    mujoco.mj_forward(model, data)\n"
   ]
  },
  {
   "cell_type": "code",
   "execution_count": null,
   "id": "b36d6b99-c78e-4243-8f33-8dc42b0114b6",
   "metadata": {},
   "outputs": [],
   "source": []
  }
 ],
 "metadata": {
  "kernelspec": {
   "display_name": "Python 3 (ipykernel)",
   "language": "python",
   "name": "python3"
  },
  "language_info": {
   "codemirror_mode": {
    "name": "ipython",
    "version": 3
   },
   "file_extension": ".py",
   "mimetype": "text/x-python",
   "name": "python",
   "nbconvert_exporter": "python",
   "pygments_lexer": "ipython3",
   "version": "3.8.18"
  }
 },
 "nbformat": 4,
 "nbformat_minor": 5
}
